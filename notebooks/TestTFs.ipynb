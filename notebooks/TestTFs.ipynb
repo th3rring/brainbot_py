{
 "cells": [
  {
   "cell_type": "code",
   "execution_count": 1,
   "id": "769fde73-e325-4ba8-9f48-006e0d3b6175",
   "metadata": {},
   "outputs": [
    {
     "name": "stderr",
     "output_type": "stream",
     "text": [
      "pybullet build time: May 20 2022 19:45:31\n"
     ]
    }
   ],
   "source": [
    "from brainbot.utils import tf\n",
    "import numpy as np"
   ]
  },
  {
   "cell_type": "code",
   "execution_count": 2,
   "id": "1b0b6915-7ff4-4e4a-8493-68b701606879",
   "metadata": {},
   "outputs": [],
   "source": [
    "a_b = np.array([0.5,0,0])\n",
    "a_b_orien = np.array([0,0,1.57079633])"
   ]
  },
  {
   "cell_type": "code",
   "execution_count": 3,
   "id": "0d87bee1-77bc-41db-9220-c2c00001f8c4",
   "metadata": {},
   "outputs": [
    {
     "data": {
      "text/plain": [
       "['Transform',\n",
       " '__builtins__',\n",
       " '__cached__',\n",
       " '__doc__',\n",
       " '__file__',\n",
       " '__loader__',\n",
       " '__name__',\n",
       " '__package__',\n",
       " '__spec__',\n",
       " '__warningregistry__',\n",
       " 'dataclass',\n",
       " 'np',\n",
       " 'pb',\n",
       " 'rotationMatrixToQuaternion',\n",
       " 'toRotationMatrix',\n",
       " 'toTransform',\n",
       " 'transformMatrixToTransform']"
      ]
     },
     "execution_count": 3,
     "metadata": {},
     "output_type": "execute_result"
    }
   ],
   "source": [
    "dir(tf)"
   ]
  },
  {
   "cell_type": "code",
   "execution_count": 4,
   "id": "d361a478-9f13-44da-913b-1ab2efe9f9cb",
   "metadata": {},
   "outputs": [
    {
     "data": {
      "text/plain": [
       "array([[-3.20510329e-09, -1.00000000e+00,  0.00000000e+00],\n",
       "       [ 1.00000000e+00, -3.20510329e-09,  0.00000000e+00],\n",
       "       [ 0.00000000e+00,  0.00000000e+00,  1.00000000e+00]])"
      ]
     },
     "execution_count": 4,
     "metadata": {},
     "output_type": "execute_result"
    }
   ],
   "source": [
    "a_b_rot = tf.toRotationMatrix(a_b_orien)\n",
    "a_b_rot"
   ]
  },
  {
   "cell_type": "code",
   "execution_count": 5,
   "id": "d8937477-b19b-474b-be30-86a2ab60509c",
   "metadata": {},
   "outputs": [
    {
     "data": {
      "text/plain": [
       "Transform(pos=array([0.5, 0. , 0. ]), quaternion=array([0.        , 0.        , 0.70710678, 0.70710678]), mat=matrix([[-3.20510329e-09, -1.00000000e+00,  0.00000000e+00,\n",
       "          5.00000000e-01],\n",
       "        [ 1.00000000e+00, -3.20510329e-09,  0.00000000e+00,\n",
       "          0.00000000e+00],\n",
       "        [ 0.00000000e+00,  0.00000000e+00,  1.00000000e+00,\n",
       "          0.00000000e+00],\n",
       "        [ 0.00000000e+00,  0.00000000e+00,  0.00000000e+00,\n",
       "          1.00000000e+00]]))"
      ]
     },
     "execution_count": 5,
     "metadata": {},
     "output_type": "execute_result"
    }
   ],
   "source": [
    "a_b_trans = tf.toTransform(a_b, a_b_orien)\n",
    "a_b_trans"
   ]
  },
  {
   "cell_type": "code",
   "execution_count": 11,
   "id": "dc8b70b2-a8a4-46fc-aaf0-d25241d32b90",
   "metadata": {},
   "outputs": [
    {
     "data": {
      "text/plain": [
       "(3, 4)"
      ]
     },
     "execution_count": 11,
     "metadata": {},
     "output_type": "execute_result"
    }
   ],
   "source": [
    "a_b_trans.rigidTF().shape"
   ]
  },
  {
   "cell_type": "code",
   "execution_count": 10,
   "id": "20703fa7-55b5-40c9-87bd-789eb8947d3d",
   "metadata": {},
   "outputs": [
    {
     "data": {
      "text/plain": [
       "[-3.2051032938795743e-09,\n",
       " -1.0,\n",
       " 0.0,\n",
       " 0.5,\n",
       " 1.0,\n",
       " -3.2051032938795743e-09,\n",
       " 0.0,\n",
       " 0.0,\n",
       " 0.0,\n",
       " 0.0,\n",
       " 1.0,\n",
       " 0.0]"
      ]
     },
     "execution_count": 10,
     "metadata": {},
     "output_type": "execute_result"
    }
   ],
   "source": [
    "a_b_trans.mat[0:3,:].reshape(-1).tolist()[0]"
   ]
  },
  {
   "cell_type": "code",
   "execution_count": 6,
   "id": "a0c64a6e-d0f2-4676-b296-55ccf7c240b4",
   "metadata": {},
   "outputs": [],
   "source": [
    "b_c = np.array([0.5,0,0])\n",
    "# b_c_euler = np.array([0,0,1.57079633])\n",
    "b_c_euler = np.array([0,0,0,1])"
   ]
  },
  {
   "cell_type": "code",
   "execution_count": 7,
   "id": "bb6b1b95-b996-41ae-92a2-f44d392f140e",
   "metadata": {},
   "outputs": [
    {
     "data": {
      "text/plain": [
       "array([[1., 0., 0.],\n",
       "       [0., 1., 0.],\n",
       "       [0., 0., 1.]])"
      ]
     },
     "execution_count": 7,
     "metadata": {},
     "output_type": "execute_result"
    }
   ],
   "source": [
    "tf.toRotationMatrix(b_c_euler)"
   ]
  },
  {
   "cell_type": "code",
   "execution_count": 8,
   "id": "743e8bf6-1623-49e4-af7b-f609b308c69f",
   "metadata": {},
   "outputs": [
    {
     "data": {
      "text/plain": [
       "Transform(pos=array([0.5, 0. , 0. ]), quaternion=array([0, 0, 0, 1]), mat=matrix([[1. , 0. , 0. , 0.5],\n",
       "        [0. , 1. , 0. , 0. ],\n",
       "        [0. , 0. , 1. , 0. ],\n",
       "        [0. , 0. , 0. , 1. ]]))"
      ]
     },
     "execution_count": 8,
     "metadata": {},
     "output_type": "execute_result"
    }
   ],
   "source": [
    "b_c_trans = tf.toTransform(b_c, b_c_euler)\n",
    "b_c_trans"
   ]
  },
  {
   "cell_type": "code",
   "execution_count": 9,
   "id": "606dce38-2dd2-460b-b375-6834a74077e7",
   "metadata": {},
   "outputs": [
    {
     "data": {
      "text/plain": [
       "Transform(pos=array([0., 0., 0.]), quaternion=array([0, 0, 0, 1]), mat=matrix([[1., 0., 0., 0.],\n",
       "        [0., 1., 0., 0.],\n",
       "        [0., 0., 1., 0.],\n",
       "        [0., 0., 0., 1.]]))"
      ]
     },
     "execution_count": 9,
     "metadata": {},
     "output_type": "execute_result"
    }
   ],
   "source": [
    "null_a = np.zeros((3))\n",
    "null_a_q = np.array([0,0,0,1])\n",
    "null_a_trans = tf.toTransform(null_a, null_a_q)\n",
    "null_a_trans"
   ]
  },
  {
   "cell_type": "code",
   "execution_count": 10,
   "id": "3d45ff67-543e-454c-9207-3ad0fe261552",
   "metadata": {
    "tags": []
   },
   "outputs": [
    {
     "data": {
      "text/plain": [
       "Transform(pos=array([0.5, 0. , 0. ]), quaternion=array([0.        , 0.        , 0.70710677, 0.70710677]), mat=matrix([[ 0. , -1. ,  0. ,  0.5],\n",
       "        [ 1. ,  0. ,  0. ,  0. ],\n",
       "        [ 0. ,  0. ,  1. ,  0. ],\n",
       "        [ 0. ,  0. ,  0. ,  1. ]]))"
      ]
     },
     "execution_count": 10,
     "metadata": {},
     "output_type": "execute_result"
    }
   ],
   "source": [
    "# Should be same as a-b transform\n",
    "# Starting at null, move to a 0.5 along x, rotate CCW 90 around z\n",
    "null_b = null_a_trans * a_b_trans\n",
    "null_b"
   ]
  },
  {
   "cell_type": "code",
   "execution_count": 11,
   "id": "b1838494-04ef-42e2-865c-76f09cc66f1b",
   "metadata": {},
   "outputs": [
    {
     "data": {
      "text/plain": [
       "Transform(pos=array([0.5, 0.5, 0. ]), quaternion=array([0.        , 0.        , 0.70710677, 0.70710677]), mat=matrix([[ 0. , -1. ,  0. ,  0.5],\n",
       "        [ 1. ,  0. ,  0. ,  0.5],\n",
       "        [ 0. ,  0. ,  1. ,  0. ],\n",
       "        [ 0. ,  0. ,  0. ,  1. ]]))"
      ]
     },
     "execution_count": 11,
     "metadata": {},
     "output_type": "execute_result"
    }
   ],
   "source": [
    "# Starting at a, move 0.5 along x, do not rotate\n",
    "null_c = null_b * b_c_trans\n",
    "null_c"
   ]
  },
  {
   "cell_type": "code",
   "execution_count": 12,
   "id": "3bae77f1-db39-4a9f-b67d-0f2503aacf2e",
   "metadata": {},
   "outputs": [
    {
     "name": "stdout",
     "output_type": "stream",
     "text": [
      "[0.5 0.5 0. ]\n"
     ]
    }
   ],
   "source": [
    "# Point should be (0.5,0.5,0)\n",
    "print(null_c.pos)"
   ]
  },
  {
   "cell_type": "code",
   "execution_count": 15,
   "id": "818eeddc-5a83-4d8e-9b12-31f4f7bad188",
   "metadata": {},
   "outputs": [
    {
     "data": {
      "text/plain": [
       "matrix([[ 0. , -1. ,  0. ,  0.5],\n",
       "        [ 1. ,  0. ,  0. ,  0.5],\n",
       "        [ 0. ,  0. ,  1. ,  0. ]])"
      ]
     },
     "execution_count": 15,
     "metadata": {},
     "output_type": "execute_result"
    }
   ],
   "source": [
    "null_c.mat[0:3,:]"
   ]
  },
  {
   "cell_type": "code",
   "execution_count": null,
   "id": "3d22b8ed-f226-465c-b9a2-c40e7982c040",
   "metadata": {},
   "outputs": [],
   "source": []
  }
 ],
 "metadata": {
  "kernelspec": {
   "display_name": "Python [conda env:brainbot] *",
   "language": "python",
   "name": "conda-env-brainbot-py"
  },
  "language_info": {
   "codemirror_mode": {
    "name": "ipython",
    "version": 3
   },
   "file_extension": ".py",
   "mimetype": "text/x-python",
   "name": "python",
   "nbconvert_exporter": "python",
   "pygments_lexer": "ipython3",
   "version": "3.9.16"
  }
 },
 "nbformat": 4,
 "nbformat_minor": 5
}
