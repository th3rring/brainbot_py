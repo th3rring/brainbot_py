{
 "cells": [
  {
   "cell_type": "code",
   "execution_count": 6,
   "id": "600e6fff-45f6-47b3-8707-5932791bf2b6",
   "metadata": {},
   "outputs": [
    {
     "name": "stderr",
     "output_type": "stream",
     "text": [
      "pybullet build time: Feb 24 2023 13:05:45\n"
     ]
    }
   ],
   "source": [
    "import os\n",
    "import sys\n",
    "from pathlib import Path\n",
    "\n",
    "# sys.path = ['', '/home/therring/Workspace/brainbot_ws/devel/lib/python3/dist-packages', '/home/therring/anaconda3/envs/brainbot/lib/python310.zip', '/home/therring/anaconda3/envs/brainbot/lib/python3.10', '/home/therring/anaconda3/envs/brainbot/lib/python3.10/lib-dynload', '/home/therring/.local/lib/python3.10/site-packages', '/home/therring/Workspace/costfuncgraph/src/costfuncgraph_python/src', '/home/therring/anaconda3/envs/brainbot/lib/python3.10/site-packages', '/home/therring/anaconda3/envs/brainbot/lib/python3.10/site-packages/PyQt5_sip-12.11.0-py3.10-linux-x86_64.egg']\n",
    "\n",
    "# The conda python3 has these in its path, idk why it doesn't work here but this fixes the bindings\n",
    "# sys.path.insert(0 ,\"/home/therring/Workspace/ompl/py-bindings\")\n",
    "# sys.path.insert(0 ,\"/home/therring/Workspace/ompl/build/lib\")\n",
    "\n",
    "from ompl import base as ob\n",
    "import grapeshot as gs"
   ]
  },
  {
   "cell_type": "code",
   "execution_count": 7,
   "id": "efc5cf58-6de6-4a8a-a353-e3ca34257aff",
   "metadata": {},
   "outputs": [],
   "source": [
    "planner_name = \"RRTConnect\"\n",
    "planning_time = 1\n",
    "vis = False\n"
   ]
  },
  {
   "cell_type": "code",
   "execution_count": 8,
   "id": "ec19b45c-d456-412c-8b97-8d6b65b6d067",
   "metadata": {},
   "outputs": [],
   "source": [
    "robot_name = \"fetch\"\n",
    "group_name = \"arm\""
   ]
  },
  {
   "cell_type": "code",
   "execution_count": 9,
   "id": "47f197e1-3a39-4ecd-80a4-c8e4db45c9fa",
   "metadata": {},
   "outputs": [],
   "source": [
    "script_path = ! pwd\n",
    "script_path = (str)(script_path)\n",
    "script_path = Path(script_path)"
   ]
  },
  {
   "cell_type": "code",
   "execution_count": 10,
   "id": "8e98d9f6-eef6-4bac-bbea-85b4b42b8c15",
   "metadata": {},
   "outputs": [],
   "source": [
    "asset_path = script_path / \"..\" / \"assets\"\n",
    "robot_path = asset_path / robot_name"
   ]
  },
  {
   "cell_type": "code",
   "execution_count": 12,
   "id": "6aae5a8b-b78d-40c2-a1f3-eed0ba575cb7",
   "metadata": {},
   "outputs": [
    {
     "ename": "ValueError",
     "evalue": "/home/therring/anaconda3/envs/brainbot/bin/python: undefined symbol: tdou",
     "output_type": "error",
     "traceback": [
      "\u001b[0;31m---------------------------------------------------------------------------\u001b[0m",
      "\u001b[0;31mValueError\u001b[0m                                Traceback (most recent call last)",
      "Input \u001b[0;32mIn [12]\u001b[0m, in \u001b[0;36m<cell line: 1>\u001b[0;34m()\u001b[0m\n\u001b[0;32m----> 1\u001b[0m world \u001b[38;5;241m=\u001b[39m \u001b[43mgs\u001b[49m\u001b[38;5;241;43m.\u001b[39;49m\u001b[43mmodel\u001b[49m\u001b[38;5;241;43m.\u001b[39;49m\u001b[43mWorld\u001b[49m\u001b[43m(\u001b[49m\u001b[43mvis\u001b[49m\u001b[43m)\u001b[49m\n\u001b[1;32m      2\u001b[0m robot \u001b[38;5;241m=\u001b[39m world\u001b[38;5;241m.\u001b[39madd_robot(robot_path \u001b[38;5;241m/\u001b[39m \u001b[38;5;124mf\u001b[39m\u001b[38;5;124m\"\u001b[39m\u001b[38;5;132;01m{\u001b[39;00mrobot_name\u001b[38;5;132;01m}\u001b[39;00m\u001b[38;5;124m.urdf\u001b[39m\u001b[38;5;124m\"\u001b[39m, robot_path \u001b[38;5;241m/\u001b[39m \u001b[38;5;124mf\u001b[39m\u001b[38;5;124m\"\u001b[39m\u001b[38;5;132;01m{\u001b[39;00mrobot_name\u001b[38;5;132;01m}\u001b[39;00m\u001b[38;5;124m.srdf\u001b[39m\u001b[38;5;124m\"\u001b[39m)\n\u001b[1;32m      3\u001b[0m env \u001b[38;5;241m=\u001b[39m world\u001b[38;5;241m.\u001b[39madd_environment_yaml(asset_path \u001b[38;5;241m/\u001b[39m \u001b[38;5;124m\"\u001b[39m\u001b[38;5;124menvironments\u001b[39m\u001b[38;5;124m\"\u001b[39m \u001b[38;5;241m/\u001b[39m \u001b[38;5;124m\"\u001b[39m\u001b[38;5;124mshelf_simple.yml\u001b[39m\u001b[38;5;124m\"\u001b[39m)\n",
      "File \u001b[0;32m~/Workspace/brainbot_py/submodules/grapeshot/grapeshot/model/world.py:31\u001b[0m, in \u001b[0;36mWorld.__init__\u001b[0;34m(self, visualize)\u001b[0m\n\u001b[1;32m     28\u001b[0m \u001b[38;5;28mself\u001b[39m\u001b[38;5;241m.\u001b[39menvironments \u001b[38;5;241m=\u001b[39m []\n\u001b[1;32m     29\u001b[0m \u001b[38;5;28mself\u001b[39m\u001b[38;5;241m.\u001b[39menvironment_ids \u001b[38;5;241m=\u001b[39m {}\n\u001b[0;32m---> 31\u001b[0m \u001b[38;5;28;01mwith\u001b[39;00m RedirectStream(sys\u001b[38;5;241m.\u001b[39mstdout):\n\u001b[1;32m     32\u001b[0m     \u001b[38;5;28;01mif\u001b[39;00m visualize:\n\u001b[1;32m     33\u001b[0m         \u001b[38;5;28mself\u001b[39m\u001b[38;5;241m.\u001b[39msim \u001b[38;5;241m=\u001b[39m BulletClient(connection_mode \u001b[38;5;241m=\u001b[39m pb\u001b[38;5;241m.\u001b[39mGUI)\n",
      "File \u001b[0;32m~/Workspace/brainbot_py/submodules/grapeshot/grapeshot/util/redirect_stream.py:25\u001b[0m, in \u001b[0;36mRedirectStream.__exit__\u001b[0;34m(self, _type, _value, _traceback)\u001b[0m\n\u001b[1;32m     24\u001b[0m \u001b[38;5;28;01mdef\u001b[39;00m \u001b[38;5;21m__exit__\u001b[39m(\u001b[38;5;28mself\u001b[39m, _type, _value, _traceback):\n\u001b[0;32m---> 25\u001b[0m   \u001b[43mRedirectStream\u001b[49m\u001b[38;5;241;43m.\u001b[39;49m\u001b[43m_flush_c_stream\u001b[49m\u001b[43m(\u001b[49m\u001b[38;5;28;43mself\u001b[39;49m\u001b[38;5;241;43m.\u001b[39;49m\u001b[43mstream\u001b[49m\u001b[43m)\u001b[49m  \u001b[38;5;66;03m# ensures C stream buffer empty\u001b[39;00m\n\u001b[1;32m     26\u001b[0m   os\u001b[38;5;241m.\u001b[39mdup2(\u001b[38;5;28mself\u001b[39m\u001b[38;5;241m.\u001b[39mdup_stream, \u001b[38;5;28mself\u001b[39m\u001b[38;5;241m.\u001b[39mstream\u001b[38;5;241m.\u001b[39mfileno())  \u001b[38;5;66;03m# restores stream\u001b[39;00m\n\u001b[1;32m     27\u001b[0m   os\u001b[38;5;241m.\u001b[39mclose(\u001b[38;5;28mself\u001b[39m\u001b[38;5;241m.\u001b[39mdup_stream)\n",
      "File \u001b[0;32m~/Workspace/brainbot_py/submodules/grapeshot/grapeshot/util/redirect_stream.py:12\u001b[0m, in \u001b[0;36mRedirectStream._flush_c_stream\u001b[0;34m(stream)\u001b[0m\n\u001b[1;32m     10\u001b[0m streamname \u001b[38;5;241m=\u001b[39m stream\u001b[38;5;241m.\u001b[39mname[\u001b[38;5;241m1\u001b[39m:\u001b[38;5;241m-\u001b[39m\u001b[38;5;241m1\u001b[39m]\n\u001b[1;32m     11\u001b[0m libc \u001b[38;5;241m=\u001b[39m ctypes\u001b[38;5;241m.\u001b[39mCDLL(\u001b[38;5;28;01mNone\u001b[39;00m)\n\u001b[0;32m---> 12\u001b[0m libc\u001b[38;5;241m.\u001b[39mfflush(\u001b[43mctypes\u001b[49m\u001b[38;5;241;43m.\u001b[39;49m\u001b[43mc_void_p\u001b[49m\u001b[38;5;241;43m.\u001b[39;49m\u001b[43min_dll\u001b[49m\u001b[43m(\u001b[49m\u001b[43mlibc\u001b[49m\u001b[43m,\u001b[49m\u001b[43m \u001b[49m\u001b[43mstreamname\u001b[49m\u001b[43m)\u001b[49m)\n",
      "\u001b[0;31mValueError\u001b[0m: /home/therring/anaconda3/envs/brainbot/bin/python: undefined symbol: tdou"
     ]
    }
   ],
   "source": [
    "world = gs.model.World(vis)\n",
    "robot = world.add_robot(robot_path / f\"{robot_name}.urdf\", robot_path / f\"{robot_name}.srdf\")\n",
    "env = world.add_environment_yaml(asset_path / \"environments\" / \"shelf_simple.yml\")\n",
    "world.configure_acm()\n",
    "\n",
    "context = gs.ompl.get_OMPL_context(world, [(robot, group_name)], planner_name)\n",
    "\n",
    "while True:\n",
    "    start = ob.State(context.ss)\n",
    "    goal = ob.State(context.ss)\n",
    "\n",
    "    while not context.vss.sample(start.get()):\n",
    "        pass\n",
    "    while not context.vss.sample(goal.get()):\n",
    "        pass\n",
    "\n",
    "    context.setup.setStartAndGoalStates(start, goal)\n",
    "    solved = context.setup.solve(planning_time)\n",
    "\n",
    "    if path := context.get_solution_path():\n",
    "        for state in path.getStates():\n",
    "            context.set_state(state)\n",
    "            time.sleep(0.01)\n",
    "    else:\n",
    "        print(\"Failed to find exact solution. Displaying start and goal states.\")\n",
    "        context.set_state(start.get())\n",
    "        input(\"Press enter to display goal.\")\n",
    "        context.set_state(goal.get())\n",
    "        input(\"Press enter to continue.\")\n",
    "\n",
    "    context.clear_query()"
   ]
  },
  {
   "cell_type": "code",
   "execution_count": null,
   "id": "e1ab3add",
   "metadata": {},
   "outputs": [],
   "source": []
  },
  {
   "cell_type": "code",
   "execution_count": null,
   "id": "06a13c71-f53e-4595-8655-9f3fe5ec7cb4",
   "metadata": {},
   "outputs": [],
   "source": []
  }
 ],
 "metadata": {
  "kernelspec": {
   "display_name": "Python 3 (ipykernel)",
   "language": "python",
   "name": "python3"
  },
  "language_info": {
   "codemirror_mode": {
    "name": "ipython",
    "version": 3
   },
   "file_extension": ".py",
   "mimetype": "text/x-python",
   "name": "python",
   "nbconvert_exporter": "python",
   "pygments_lexer": "ipython3",
   "version": "3.10.9"
  }
 },
 "nbformat": 4,
 "nbformat_minor": 5
}
