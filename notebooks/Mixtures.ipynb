{
 "cells": [
  {
   "cell_type": "code",
   "execution_count": 26,
   "id": "7d863d53-a705-486e-893b-6d0c6323e5ba",
   "metadata": {
    "tags": []
   },
   "outputs": [],
   "source": [
    "from brainbot.utils.tf import Transform, toTransform\n",
    "from brainbot.kinematics.solvers import Ur5Kinematics\n",
    "from brainbot.plan.regions import *\n",
    "from brainbot.plan.samplers import *\n",
    "from sklearn.mixture import GaussianMixture\n",
    "from numpy.random import default_rng"
   ]
  },
  {
   "cell_type": "code",
   "execution_count": 2,
   "id": "61a65f8a-2ae1-4b16-a8ed-f538f0cb1991",
   "metadata": {
    "tags": []
   },
   "outputs": [],
   "source": [
    "# Hardcoded tf offsets for UR5\n",
    "tool_tip_to_ee_tf = toTransform([-2.7292966e-04, -1.14038587e-04, 5.299999733e-01], [7.07322776e-01, 1.44034871e-04, -7.06890702e-01, -1.439925e-04])\n",
    "world_to_base_tf = toTransform([0, 0, 2.3], [0,1,0,0])"
   ]
  },
  {
   "cell_type": "code",
   "execution_count": 3,
   "id": "3812d588-16b2-4dcd-ba6e-71fdc1b0312a",
   "metadata": {
    "tags": []
   },
   "outputs": [],
   "source": [
    "# Make kinematic solver\n",
    "solver = Ur5Kinematics(tool_tip_to_ee_tf.inv(), world_to_base_tf)\n",
    "\n",
    "# Make cylinder\n",
    "cyl = Cyl(0.25, 0.5, tf.toTransform([0,0,1.1], [0,0,0]))"
   ]
  },
  {
   "cell_type": "code",
   "execution_count": 4,
   "id": "c172e456-5b71-4c8e-9e49-dc9e849bae04",
   "metadata": {
    "tags": []
   },
   "outputs": [],
   "source": [
    "# Can't use grapeshot in ipynb rn, just returning that every state is valid\n",
    "def valid(state):\n",
    "    return True"
   ]
  },
  {
   "cell_type": "code",
   "execution_count": 5,
   "id": "d9157ce5-f26f-4240-b47e-86cee9d94ff1",
   "metadata": {
    "tags": []
   },
   "outputs": [],
   "source": [
    "# Make sampler\n",
    "s = RegionGridConfigSampler(cyl, [30, 30, 10], solver, valid)"
   ]
  },
  {
   "cell_type": "code",
   "execution_count": 6,
   "id": "2f4087a4-f704-43b3-b691-0d7f5797faca",
   "metadata": {
    "tags": []
   },
   "outputs": [
    {
     "data": {
      "text/plain": [
       "array([ 2.58377934, -1.19029593, -0.63113344, -0.21617846,  1.46288586,\n",
       "        0.11998929])"
      ]
     },
     "execution_count": 6,
     "metadata": {},
     "output_type": "execute_result"
    }
   ],
   "source": [
    "# Test it works\n",
    "s.next()"
   ]
  },
  {
   "cell_type": "code",
   "execution_count": null,
   "id": "4eecbf43-0138-4082-9e10-0e137b169dd2",
   "metadata": {},
   "outputs": [],
   "source": [
    ">>> X = np.array([[1, 2], [1, 4], [1, 0], [10, 2], [10, 4], [10, 0]])\n",
    ">>> gm = GaussianMixture(n_components=2, random_state=0).fit(X)\n",
    ">>> gm.means_\n",
    "array([[10.,  2.],\n",
    "       [ 1.,  2.]])"
   ]
  },
  {
   "cell_type": "code",
   "execution_count": 9,
   "id": "7ed12a55-26eb-4679-88d2-5e7b7e3cc5ec",
   "metadata": {
    "tags": []
   },
   "outputs": [],
   "source": [
    "num_data = 30 * 30 * 10\n",
    "X = []\n",
    "for _ in range(num_data):\n",
    "    X.append(s.next())\n",
    "    "
   ]
  },
  {
   "cell_type": "code",
   "execution_count": 12,
   "id": "b706affd-902e-4ca3-8413-f74749a55e34",
   "metadata": {
    "tags": []
   },
   "outputs": [],
   "source": [
    "gm = GaussianMixture(n_components=num_data, init_params='random_from_data', covariance_type='tied').fit(np.array(X))"
   ]
  },
  {
   "cell_type": "code",
   "execution_count": 18,
   "id": "6b1037b4-5124-4f7e-a8f7-24958caf83ef",
   "metadata": {
    "tags": []
   },
   "outputs": [],
   "source": [
    "config, label = gm.sample()"
   ]
  },
  {
   "cell_type": "code",
   "execution_count": 20,
   "id": "448d3c18-02cc-407b-97f9-96f89664e4cd",
   "metadata": {
    "tags": []
   },
   "outputs": [
    {
     "data": {
      "text/plain": [
       "array([-0.32591894, -0.83449059, -0.54299297, -1.07957339,  1.57654688,\n",
       "        2.2284525 ])"
      ]
     },
     "execution_count": 20,
     "metadata": {},
     "output_type": "execute_result"
    }
   ],
   "source": [
    "config[0]"
   ]
  },
  {
   "cell_type": "code",
   "execution_count": 50,
   "id": "a2e80c28-6d7e-4a2b-adf1-d1685d4437b1",
   "metadata": {
    "tags": []
   },
   "outputs": [
    {
     "name": "stdout",
     "output_type": "stream",
     "text": [
      "Choose [ 2.77895451 -2.13291717  2.15600443 -1.80163336  1.40320826  0.15401287]\n"
     ]
    }
   ],
   "source": [
    "rng = default_rng()\n",
    "choice = rng.choice(np.array(X), (1,1), shuffle=False)[0][0]\n",
    "print(f\"Choose {choice}\")"
   ]
  },
  {
   "cell_type": "code",
   "execution_count": 53,
   "id": "81b5a92a-c937-4371-8a88-09b69a65a1c2",
   "metadata": {
    "tags": []
   },
   "outputs": [],
   "source": [
    "rand_new = rng.normal(choice, scale = 0.1, size = (1, 6))"
   ]
  },
  {
   "cell_type": "code",
   "execution_count": 54,
   "id": "438ab319-6b59-41fc-b92b-969dabe7f53e",
   "metadata": {
    "tags": []
   },
   "outputs": [
    {
     "data": {
      "text/plain": [
       "array([[ 2.80792783, -2.15186747,  2.37821655, -1.76178645,  1.26384593,\n",
       "         0.26914507]])"
      ]
     },
     "execution_count": 54,
     "metadata": {},
     "output_type": "execute_result"
    }
   ],
   "source": [
    "rand_new\n"
   ]
  },
  {
   "cell_type": "code",
   "execution_count": null,
   "id": "9fe30971-1a13-4988-99a8-7b628a7350a7",
   "metadata": {},
   "outputs": [],
   "source": []
  }
 ],
 "metadata": {
  "kernelspec": {
   "display_name": "Python [conda env:brainbot] *",
   "language": "python",
   "name": "conda-env-brainbot-py"
  },
  "language_info": {
   "codemirror_mode": {
    "name": "ipython",
    "version": 3
   },
   "file_extension": ".py",
   "mimetype": "text/x-python",
   "name": "python",
   "nbconvert_exporter": "python",
   "pygments_lexer": "ipython3",
   "version": "3.9.16"
  }
 },
 "nbformat": 4,
 "nbformat_minor": 5
}
